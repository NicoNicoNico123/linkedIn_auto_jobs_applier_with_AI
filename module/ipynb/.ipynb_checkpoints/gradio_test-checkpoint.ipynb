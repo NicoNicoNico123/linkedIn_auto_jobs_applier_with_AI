{
 "cells": [
  {
   "cell_type": "code",
   "execution_count": 1,
   "id": "e0a09a20-3244-4552-92d3-8de3fad62e9c",
   "metadata": {},
   "outputs": [],
   "source": [
    "import gradio as gr\n",
    "import yaml\n",
    "import os\n",
    "\n",
    "# Get the current working directory\n",
    "current_dir = os.getcwd()\n",
    "\n",
    "# Construct the full path to the YAML file\n",
    "yaml_file_path = os.path.join(current_dir, 'sample.yaml')\n",
    "\n",
    "# Load the data from the YAML file\n",
    "with open(yaml_file_path, 'r') as file:\n",
    "    data = yaml.safe_load(file)"
   ]
  },
  {
   "cell_type": "code",
   "execution_count": 2,
   "id": "6dd57936-6a1b-4476-8cf3-e5fce1c18552",
   "metadata": {},
   "outputs": [
    {
     "name": "stdout",
     "output_type": "stream",
     "text": [
      "Running on local URL:  http://0.0.0.0:7862\n",
      "\n",
      "To create a public link, set `share=True` in `launch()`.\n"
     ]
    },
    {
     "data": {
      "text/html": [
       "<div><iframe src=\"http://localhost:7862/\" width=\"100%\" height=\"500\" allow=\"autoplay; camera; microphone; clipboard-read; clipboard-write;\" frameborder=\"0\" allowfullscreen></iframe></div>"
      ],
      "text/plain": [
       "<IPython.core.display.HTML object>"
      ]
     },
     "metadata": {},
     "output_type": "display_data"
    },
    {
     "data": {
      "text/plain": []
     },
     "execution_count": 2,
     "metadata": {},
     "output_type": "execute_result"
    }
   ],
   "source": [
    "def create_section_interface(section_name, section_data):\n",
    "    with gr.Accordion(section_name.capitalize(), open=False):\n",
    "        if isinstance(section_data, list):\n",
    "            dynamic_fields = gr.State(value=section_data)\n",
    "            @gr.render(inputs=dynamic_fields)\n",
    "            def render_fields(fields):\n",
    "                for item in fields:\n",
    "                    with gr.Group():  # Grouping related fields together\n",
    "                        if isinstance(item, dict):\n",
    "                            for key, value in item.items():\n",
    "                                if isinstance(value, dict):\n",
    "                                    gr.Markdown(f\"**{key.capitalize()}**\")\n",
    "                                    for sub_key, sub_value in value.items():\n",
    "                                        gr.Textbox(label=sub_key, value=sub_value, interactive=True)\n",
    "                                else:\n",
    "                                    gr.Textbox(label=key.capitalize(), value=value, interactive=True)\n",
    "                        else:\n",
    "                            gr.Textbox(value=hint, interactive=True)\n",
    "        else:\n",
    "            dynamic_fields = gr.State(value=[(key, value) for key, value in section_data.items()])\n",
    "            @gr.render(inputs=dynamic_fields)\n",
    "            def render_fields(fields):\n",
    "                for name, hint in fields:\n",
    "                    if name == \"gender\":\n",
    "                        gr.Dropdown(label=name.capitalize(), choices=[\"Male\", \"Female\", \"Other\"], value=hint, interactive=True)\n",
    "                    else:\n",
    "                        gr.Textbox(label=name.capitalize(), placeholder=hint, value=hint, interactive=True)\n",
    "        \n",
    "        # Input for new field name at the bottom\n",
    "        with gr.Row():\n",
    "            new_field_name = gr.Textbox(label=\"New Field Name\")\n",
    "            add_button = gr.Button(value=\"Add Field\")\n",
    "\n",
    "        # Add new field on button click\n",
    "        def add_new_field(fields, name):\n",
    "            if name:\n",
    "                if isinstance(fields[0], dict):\n",
    "                    fields.append({name: \"\"})\n",
    "                else:\n",
    "                    fields.append((name, \"\"))  # Add new field with empty placeholder\n",
    "            return fields\n",
    "        \n",
    "        add_button.click(fn=add_new_field, inputs=[dynamic_fields, new_field_name], outputs=[dynamic_fields])\n",
    "\n",
    "with gr.Blocks() as demo:\n",
    "    gr.Markdown(\"# User Profile\")\n",
    "\n",
    "    # Create expandable sections for each major section in the data\n",
    "    for section_name, section_data in data.items():\n",
    "        create_section_interface(section_name, section_data)\n",
    "\n",
    "demo.launch(server_name=\"0.0.0.0\", server_port=7862, inline=True, prevent_thread_lock=True)"
   ]
  },
  {
   "cell_type": "code",
   "execution_count": null,
   "id": "6b0c7a7b-2454-4b15-b390-a3fb679f00fa",
   "metadata": {},
   "outputs": [],
   "source": []
  }
 ],
 "metadata": {
  "kernelspec": {
   "display_name": "Python 3 (ipykernel)",
   "language": "python",
   "name": "python3"
  },
  "language_info": {
   "codemirror_mode": {
    "name": "ipython",
    "version": 3
   },
   "file_extension": ".py",
   "mimetype": "text/x-python",
   "name": "python",
   "nbconvert_exporter": "python",
   "pygments_lexer": "ipython3",
   "version": "3.12.3"
  }
 },
 "nbformat": 4,
 "nbformat_minor": 5
}
